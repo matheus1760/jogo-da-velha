{
 "cells": [
  {
   "cell_type": "markdown",
   "metadata": {
    "pycharm": {
     "name": "#%% md\n"
    }
   },
   "source": [
    "## f strings?"
   ]
  },
  {
   "cell_type": "code",
   "execution_count": 1,
   "metadata": {
    "pycharm": {
     "name": "#%%\n"
    }
   },
   "outputs": [
    {
     "ename": "TypeError",
     "evalue": "can only concatenate str (not \"int\") to str",
     "output_type": "error",
     "traceback": [
      "\u001B[0;31m---------------------------------------------------------------------------\u001B[0m",
      "\u001B[0;31mTypeError\u001B[0m                                 Traceback (most recent call last)",
      "Input \u001B[0;32mIn [1]\u001B[0m, in \u001B[0;36m<cell line: 5>\u001B[0;34m()\u001B[0m\n\u001B[1;32m      2\u001B[0m nome \u001B[38;5;241m=\u001B[39m \u001B[38;5;124m\"\u001B[39m\u001B[38;5;124mCarlos\u001B[39m\u001B[38;5;124m\"\u001B[39m\n\u001B[1;32m      4\u001B[0m \u001B[38;5;66;03m# Qual será o problema?\u001B[39;00m\n\u001B[0;32m----> 5\u001B[0m \u001B[38;5;28mprint\u001B[39m(\u001B[38;5;124;43m\"\u001B[39;49m\u001B[38;5;124;43mOlá, + nome + ! Seu saldo é de R$\u001B[39;49m\u001B[38;5;124;43m\"\u001B[39;49m\u001B[43m \u001B[49m\u001B[38;5;241;43m+\u001B[39;49m\u001B[43m \u001B[49m\u001B[43msaldo\u001B[49m)\n",
      "\u001B[0;31mTypeError\u001B[0m: can only concatenate str (not \"int\") to str"
     ]
    }
   ],
   "source": [
    "saldo = 1200\n",
    "nome = \"Carlos\"\n",
    "\n",
    "# Qual será o problema?\n",
    "print(\"Olá, + nome + ! Seu saldo é de R$\" + saldo)"
   ]
  },
  {
   "cell_type": "code",
   "execution_count": 3,
   "metadata": {
    "pycharm": {
     "name": "#%%\n"
    }
   },
   "outputs": [
    {
     "name": "stdout",
     "output_type": "stream",
     "text": [
      "1 | 2 | 3\n"
     ]
    }
   ],
   "source": [
    "elemento = [1, 2, 3]\n",
    "print(f\"{elemento[0]} | {elemento[1]} | {elemento[2]}\")\n",
    "\n",
    "# vs\n",
    "\n",
    "# Mais intuitivo em alguns casos\n",
    "# print(\"{} | {} | {}\".format(elemento[0], elemento[1], elemento[2]))"
   ]
  },
  {
   "cell_type": "markdown",
   "metadata": {
    "pycharm": {
     "name": "#%% md\n"
    }
   },
   "source": [
    "## Typehints e tipagem"
   ]
  },
  {
   "cell_type": "code",
   "execution_count": null,
   "metadata": {
    "pycharm": {
     "name": "#%%\n"
    }
   },
   "outputs": [],
   "source": [
    "saldo = 0\n",
    "# Inteiro? Float? Isso pode ser um problema\n",
    "\n",
    "saldo: float = 0\n",
    "\n",
    "cpf = \"123.456.789-10\"\n",
    "# Inteiro? String? Se isso importa...\n",
    "\n",
    "cpf: str = \"123.456.789-10\"\n",
    "\n",
    "# O que acontece se você tentar fazer isso?\n",
    "cpf = 12345678910\n",
    "\n",
    "# Estático (não é alterado) vs dinâmico (pode ser alterado)"
   ]
  },
  {
   "cell_type": "markdown",
   "metadata": {
    "pycharm": {
     "name": "#%% md\n"
    }
   },
   "source": [
    "---------------------------------------------------------------------------------------------\n",
    "## O que são métodos?"
   ]
  },
  {
   "cell_type": "code",
   "execution_count": 7,
   "metadata": {
    "pycharm": {
     "name": "#%%\n"
    }
   },
   "outputs": [
    {
     "name": "stdout",
     "output_type": "stream",
     "text": [
      "\n",
      "1 | 2 | 3\n",
      "4 | 5 | 6\n",
      "7 | 8 | 9\n"
     ]
    }
   ],
   "source": [
    "def tabuleiro(simbolos: list) -> None:\n",
    "    \"\"\"Método com uma lista de strings como argumento\n",
    "    para mostrar o tabuleiro\"\"\"\n",
    "    print()\n",
    "    print(f\"{elemento[0]} | {elemento[1]} | {elemento[2]}\")\n",
    "    print(f\"{elemento[3]} | {elemento[4]} | {elemento[5]}\")\n",
    "    print(f\"{elemento[6]} | {elemento[7]} | {elemento[8]}\")\n",
    "\n",
    "\n",
    "# São uma abstração de um algoritmo para evitar repetições, e são como funções matemáticas, recebem e retornam coisas. Porém, não apenas números, mas também strings, listas, tuplas, dicionários, etc.\n",
    "# O \"-> None\" significa que o método não retorna nada, porém mesmo assim, sendo uma typehint, ele pode receber e retornar qualquer coisa sem problemas.\n",
    "\n",
    "elemento = [1, 2, 3, 4, 5, 6, 7, 8, 9]\n",
    "tabuleiro(elemento)"
   ]
  },
  {
   "cell_type": "markdown",
   "metadata": {
    "pycharm": {
     "name": "#%% md\n"
    }
   },
   "source": [
    "## Operadores ternários"
   ]
  },
  {
   "cell_type": "code",
   "execution_count": 8,
   "metadata": {
    "pycharm": {
     "name": "#%%\n"
    }
   },
   "outputs": [
    {
     "name": "stdout",
     "output_type": "stream",
     "text": [
      "Ensolarado\n"
     ]
    }
   ],
   "source": [
    "humor = int(input(\"Como você está de 0 a 10?\"))\n",
    "\n",
    "######################################################\n",
    "tempo_atual = \"Chuvoso\" if humor < 4 else \"Ensolarado\"\n",
    "######################################################\n",
    "\n",
    "#vs\n",
    "#######################################################\n",
    "#if humor < 4:\n",
    "#    tempo_atual = \"Chuvoso\"\n",
    "#else:\n",
    "#    tempo_atual = \"Ensolarado\"\n",
    "######################################################\n",
    "\n",
    "\n",
    "print(tempo_atual)\n",
    "\n",
    "# Útil para if's com uma única linha e uma condição"
   ]
  }
 ],
 "metadata": {
  "interpreter": {
   "hash": "e7370f93d1d0cde622a1f8e1c04877d8463912d04d973331ad4851f04de6915a"
  },
  "kernelspec": {
   "display_name": "Python 3.10.4 64-bit",
   "language": "python",
   "name": "python3"
  },
  "language_info": {
   "codemirror_mode": {
    "name": "ipython",
    "version": 3
   },
   "file_extension": ".py",
   "mimetype": "text/x-python",
   "name": "python",
   "nbconvert_exporter": "python",
   "pygments_lexer": "ipython3",
   "version": "3.10.4"
  },
  "orig_nbformat": 4
 },
 "nbformat": 4,
 "nbformat_minor": 2
}