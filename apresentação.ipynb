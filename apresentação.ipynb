{
 "cells": [
  {
   "cell_type": "markdown",
   "metadata": {},
   "source": [
    "# Jogo da velha\n",
    "![jogo-da-velha](https://www.thesprucecrafts.com/thmb/ok6sYPsNOIZN5zI-ZthsTd3JY8Q=/2816x1880/filters:fill(auto,1)/4250653771_aa9ff1d2cb_o-56a0ad125f9b58eba4b2bc38.jpg)\n",
    "\n",
    "Repositório: https://github.com/matheus1760/jogo-da-velha  \n",
    "\n",
    "Este projeto utiliza tudo que o grupo aprendeu sobre python na criação do famoso jogo da velha  \n",
    "\n",
    "Grupo:  \n",
    "- Alessa Danúbia\n",
    "- Beatriz Emmanuele\n",
    "- Matheus Bione\n",
    "- Sidnei Marcos\n",
    "\n",
    "\n",
    "## Implementações:\n",
    "- métodos\n",
    "- listas\n",
    "- formatação de texto estilo f strings\n",
    "- operadores ternários\n",
    "- typehints\n",
    "\n",
    "## Funcionalidades:\n",
    "- inputs de confirmação\n",
    "- tempos de ociosidade\n",
    "- nomeação dinâmica de jogadores\n"
   ]
  },
  {
   "cell_type": "markdown",
   "metadata": {},
   "source": [
    "---------------------------------------------------------------------------------------------\n",
    "## f strings?"
   ]
  },
  {
   "cell_type": "code",
   "execution_count": 5,
   "metadata": {},
   "outputs": [
    {
     "name": "stdout",
     "output_type": "stream",
     "text": [
      "Olá, Carlos Seu saldo é de R$ + 1200\n"
     ]
    }
   ],
   "source": [
    "saldo = 1200\n",
    "nome = \"Carlos\"\n",
    "\n",
    "# Qual será o problema?\n",
    "print(\"Olá, \" + nome + \"! Seu saldo é de R$\" + saldo)"
   ]
  },
  {
   "cell_type": "code",
   "execution_count": null,
   "metadata": {},
   "outputs": [
    {
     "name": "stdout",
     "output_type": "stream",
     "text": [
      "1 | 2 | 3\n",
      "1 | 2 | 3\n"
     ]
    }
   ],
   "source": [
    "elemento = [1, 2, 3]\n",
    "print(f\"{elemento[0]} | {elemento[1]} | {elemento[2]}\")\n",
    "\n",
    "# vs\n",
    "\n",
    "# Mais intuitivo em alguns casos\n",
    "print(\"{} | {} | {}\".format(elemento[0], elemento[1], elemento[2]))"
   ]
  },
  {
   "cell_type": "markdown",
   "metadata": {},
   "source": [
    "## Typehints e tipagem"
   ]
  },
  {
   "cell_type": "code",
   "execution_count": null,
   "metadata": {},
   "outputs": [],
   "source": [
    "saldo = 0\n",
    "# Inteiro? Float? Isso pode ser um problema\n",
    "\n",
    "saldo: float = 0\n",
    "\n",
    "cpf = \"123.456.789-10\"\n",
    "# Inteiro? String? Se isso importa...\n",
    "\n",
    "cpf: str = \"123.456.789-10\"\n",
    "\n",
    "# O que acontece se você tentar fazer isso?\n",
    "cpf = 12345678910\n",
    "\n",
    "# Estático (não é alterado) vs dinâmico (pode ser alterado)"
   ]
  },
  {
   "cell_type": "markdown",
   "metadata": {},
   "source": [
    "---------------------------------------------------------------------------------------------\n",
    "## O que são métodos?"
   ]
  },
  {
   "cell_type": "code",
   "execution_count": 7,
   "metadata": {},
   "outputs": [
    {
     "name": "stdout",
     "output_type": "stream",
     "text": [
      "\n",
      "1 | 2 | 3\n",
      "4 | 5 | 6\n",
      "7 | 8 | 9\n"
     ]
    }
   ],
   "source": [
    "def tabuleiro(símbolos: list) -> None:\n",
    "    \"\"\"Método com uma lista de strings como argumento\n",
    "    para mostrar o tabuleiro\"\"\"\n",
    "    print()\n",
    "    print(f\"{elemento[0]} | {elemento[1]} | {elemento[2]}\")\n",
    "    print(f\"{elemento[3]} | {elemento[4]} | {elemento[5]}\")\n",
    "    print(f\"{elemento[6]} | {elemento[7]} | {elemento[8]}\")\n",
    "\n",
    "\n",
    "# São uma abstração de um algoritmo para evitar repetições, e são como funções matemáticas, recebem e retornam coisas. Porém, não apenas números, mas também strings, listas, tuplas, dicionários, etc.\n",
    "# O \"-> None\" significa que o método não retorna nada, porém mesmo assim, sendo uma typehint, ele pode receber e retornar qualquer coisa sem problemas.\n",
    "\n",
    "elemento = [1, 2, 3, 4, 5, 6, 7, 8, 9]\n",
    "tabuleiro(elemento)"
   ]
  },
  {
   "cell_type": "markdown",
   "metadata": {},
   "source": [
    "## Operadores ternários"
   ]
  },
  {
   "cell_type": "code",
   "execution_count": 8,
   "metadata": {},
   "outputs": [
    {
     "name": "stdout",
     "output_type": "stream",
     "text": [
      "Ensolarado\n"
     ]
    }
   ],
   "source": [
    "humor = int(input(\"Como você está de 0 a 10?\"))\n",
    "\n",
    "######################################################\n",
    "tempo_atual = \"Chuvoso\" if humor < 4 else \"Ensolarado\"\n",
    "######################################################\n",
    "\n",
    "#vs\n",
    "\n",
    "#######################################################\n",
    "#if humor < 4:\n",
    "#    tempo_atual = \"Chuvoso\"\n",
    "#else:\n",
    "#    tempo_atual = \"Ensolarado\"\n",
    "######################################################\n",
    "\n",
    "\n",
    "print(tempo_atual)\n",
    "\n",
    "# Útil para if's com uma única linha e uma condição"
   ]
  }
 ],
 "metadata": {
  "interpreter": {
   "hash": "e7370f93d1d0cde622a1f8e1c04877d8463912d04d973331ad4851f04de6915a"
  },
  "kernelspec": {
   "display_name": "Python 3.10.4 64-bit",
   "language": "python",
   "name": "python3"
  },
  "language_info": {
   "codemirror_mode": {
    "name": "ipython",
    "version": 3
   },
   "file_extension": ".py",
   "mimetype": "text/x-python",
   "name": "python",
   "nbconvert_exporter": "python",
   "pygments_lexer": "ipython3",
   "version": "3.10.4"
  },
  "orig_nbformat": 4
 },
 "nbformat": 4,
 "nbformat_minor": 2
}
